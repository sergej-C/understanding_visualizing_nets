{
 "cells": [
  {
   "cell_type": "code",
   "execution_count": 1,
   "metadata": {
    "collapsed": false
   },
   "outputs": [
    {
     "name": "stderr",
     "output_type": "stream",
     "text": [
      "/media/sergio/0eb90434-bbe8-4218-a191-4fa0159e1a36/dev/anaconda2/lib/python2.7/site-packages/matplotlib/font_manager.py:273: UserWarning: Matplotlib is building the font cache using fc-list. This may take a moment.\n",
      "  warnings.warn('Matplotlib is building the font cache using fc-list. This may take a moment.')\n"
     ]
    }
   ],
   "source": [
    "import sys\n",
    "lrp_toolbox_path = '/media/sergio/0eb90434-bbe8-4218-a191-4fa0159e1a36/ml_nn/visualize_nets/lrp_toolbox/python' \n",
    "sys.path.append(lrp_toolbox_path)\n",
    "sys.path.append(lrp_toolbox_path + '/modules')\n",
    "\n",
    "import matplotlib.pyplot as plt\n",
    "import numpy as np ; na = np.newaxis\n",
    "\n",
    "# for auto-reloading external modules\n",
    "# see http://stackoverflow.com/questions/1907993/autoreload-of-modules-in-ipython\n",
    "get_ipython().magic(u'load_ext autoreload')\n",
    "get_ipython().magic(u'autoreload 2')\n"
   ]
  },
  {
   "cell_type": "code",
   "execution_count": 2,
   "metadata": {
    "collapsed": false
   },
   "outputs": [],
   "source": [
    "import model_io\n",
    "import data_io\n",
    "import render"
   ]
  },
  {
   "cell_type": "code",
   "execution_count": 3,
   "metadata": {
    "collapsed": false
   },
   "outputs": [
    {
     "name": "stdout",
     "output_type": "stream",
     "text": [
      "loading pickled model from /media/sergio/0eb90434-bbe8-4218-a191-4fa0159e1a36/ml_nn/visualize_nets/lrp_toolbox/python/../models/MNIST/LeNet-5.nn\n",
      "loading np-formatted data from /media/sergio/0eb90434-bbe8-4218-a191-4fa0159e1a36/ml_nn/visualize_nets/lrp_toolbox/python/../data/MNIST/test_images.npy\n",
      "loading np-formatted data from /media/sergio/0eb90434-bbe8-4218-a191-4fa0159e1a36/ml_nn/visualize_nets/lrp_toolbox/python/../data/MNIST/test_labels.npy\n"
     ]
    }
   ],
   "source": [
    "#load a neural network, as well as the MNIST test data and some labels\n",
    "nn = model_io.read(lrp_toolbox_path+'/../models/MNIST/LeNet-5.nn') # 99.23% prediction accuracy\n",
    "X = data_io.read(lrp_toolbox_path+'/../data/MNIST/test_images.npy')\n",
    "Y = data_io.read(lrp_toolbox_path+'/../data/MNIST/test_labels.npy')\n",
    "\n",
    "\n",
    "# transfer pixel values from [0 255] to [-1 1] to satisfy the expected input / training paradigm of the model\n",
    "X =  X / 127.5 - 1.\n"
   ]
  },
  {
   "cell_type": "code",
   "execution_count": 4,
   "metadata": {
    "collapsed": false
   },
   "outputs": [],
   "source": [
    "#reshape the vector representations in X to match the requirements of the CNN input\n",
    "X = np.reshape(X,[X.shape[0],28,28,1])\n",
    "X = np.pad(X,((0,0),(2,2),(2,2),(0,0)), 'constant', constant_values = (-1.,))\n",
    "\n",
    "\n",
    "# transform numeric class labels to vector indicator for uniformity. assume presence of all classes within the label set\n",
    "I = Y[:,0].astype(int)\n",
    "Y = np.zeros([X.shape[0],np.unique(Y).size])\n",
    "Y[np.arange(Y.shape[0]),I] = 1\n"
   ]
  },
  {
   "cell_type": "code",
   "execution_count": 5,
   "metadata": {
    "collapsed": false
   },
   "outputs": [
    {
     "name": "stdout",
     "output_type": "stream",
     "text": [
      "<modules.sequential.Sequential instance at 0x7feebe7c2830>\n",
      "(10000, 32, 32, 1) (10000, 10)\n"
     ]
    }
   ],
   "source": [
    "print nn\n",
    "print X.shape, Y.shape"
   ]
  },
  {
   "cell_type": "code",
   "execution_count": 6,
   "metadata": {
    "collapsed": false
   },
   "outputs": [
    {
     "data": {
      "text/plain": [
       "[((5, 5, 1, 10), (10,), 'Convolution'),\n",
       " ('-', '-', 'Rect'),\n",
       " ('-', '-', 'SumPool'),\n",
       " ((5, 5, 10, 25), (25,), 'Convolution'),\n",
       " ('-', '-', 'Rect'),\n",
       " ('-', '-', 'SumPool'),\n",
       " ((4, 4, 25, 100), (100,), 'Convolution'),\n",
       " ('-', '-', 'Rect'),\n",
       " ('-', '-', 'SumPool'),\n",
       " ((1, 1, 100, 10), (10,), 'Convolution'),\n",
       " ('-', '-', 'Flatten')]"
      ]
     },
     "execution_count": 6,
     "metadata": {},
     "output_type": "execute_result"
    }
   ],
   "source": [
    "# printing wheights and Biases shapes of each layer\n",
    "shapes = [(mod.W.shape) if hasattr(mod, 'W') else '-' for mod in nn.modules]\n",
    "biases = [(mod.B.shape) if hasattr(mod, 'B') else '-' for mod in nn.modules]\n",
    "classes = [mod.__class__.__name__ for mod in nn.modules]\n",
    "\n",
    "[el for el in zip(shapes, biases, classes)]"
   ]
  },
  {
   "cell_type": "code",
   "execution_count": 7,
   "metadata": {
    "collapsed": false
   },
   "outputs": [],
   "source": [
    "i = 0\n",
    "x = X[i:i+1,...]\n",
    "\n",
    "#forward pass and prediction\n",
    "ypred = nn.forward(x)\n",
    "##############################################\n",
    "#  X shape across layers in forward pass\n",
    "##############################################\n",
    "#forward Convolution , X shape: (1, 32, 32, 1)\n",
    "#forward Rect , X shape: (1, 28, 28, 10)\n",
    "#forward SumPool , X shape: (1, 28, 28, 10)\n",
    "#forward Convolution , X shape: (1, 14, 14, 10)\n",
    "#forward Rect , X shape: (1, 10, 10, 25)\n",
    "#forward SumPool , X shape: (1, 10, 10, 25)\n",
    "#forward Convolution , X shape: (1, 5, 5, 25)\n",
    "#forward Rect , X shape: (1, 2, 2, 100)\n",
    "#forward SumPool , X shape: (1, 2, 2, 100)\n",
    "#forward Convolution , X shape: (1, 1, 1, 100)\n",
    "#forward Flatten , X shape: (1, 1, 1, 10)\n",
    "##############################################"
   ]
  },
  {
   "cell_type": "code",
   "execution_count": 8,
   "metadata": {
    "collapsed": false
   },
   "outputs": [
    {
     "name": "stdout",
     "output_type": "stream",
     "text": [
      "True Class:      7\n",
      "Predicted Class: 7 \n",
      "\n"
     ]
    }
   ],
   "source": [
    "print 'True Class:     ', np.argmax(Y[i])\n",
    "print 'Predicted Class:', np.argmax(ypred),'\\n'\n"
   ]
  },
  {
   "cell_type": "code",
   "execution_count": 9,
   "metadata": {
    "collapsed": false
   },
   "outputs": [],
   "source": [
    "#==============================================\n",
    "# LRP RULES\n",
    "#==============================================\n",
    "def conv_lrp(R, conv_layer, type='simple', *args, **kwargs):\n",
    "    \n",
    "        \n",
    "        if type == 'simple':\n",
    "            '''\n",
    "            LRP according to Eq(56) in DOI: 10.1371/journal.pone.0130140\n",
    "            '''\n",
    "\n",
    "            N,Hout,Wout,NF = R.shape\n",
    "            hf,wf,df,NF = conv_layer.W.shape\n",
    "            hstride, wstride = conv_layer.stride\n",
    "\n",
    "            Rx = np.zeros_like(conv_layer.X,dtype=np.float)\n",
    "\n",
    "            for i in xrange(Hout):\n",
    "                for j in xrange(Wout):\n",
    "                    Z = conv_layer.W[na,...] * conv_layer.X[:, i*hstride:i*hstride+hf , j*wstride:j*wstride+wf , : , na]\n",
    "                    Zs = Z.sum(axis=(1,2,3),keepdims=True) + conv_layer.B[na,na,na,na,...]\n",
    "                    Zs += 1e-12*((Zs >= 0)*2 - 1.) # add a weak numerical stabilizer to cushion division by zero\n",
    "                    Rx[:,i*hstride:i*hstride+hf: , j*wstride:j*wstride+wf: , : ] += ((Z/Zs) * R[:,i:i+1,j:j+1,na,:]).sum(axis=4)\n",
    "            return Rx\n",
    "        \n",
    "\n",
    "def flatten_lrp(R, x_shape):\n",
    "    '''\n",
    "    Receives upper layer input relevance R and reshapes it to match the input neurons.\n",
    "    '''\n",
    "    # just propagate R further down.\n",
    "    # makes sure subroutines never get called.\n",
    "    return np.reshape(R,x_shape)\n",
    "\n",
    "def non_linearity_lrp(R):\n",
    "    '''\n",
    "     just propagate R further down.\n",
    "    '''\n",
    "    return R\n",
    "\n",
    "def sumpool_lrp(R, sumpool_layer, type='simple'):\n",
    "    \n",
    "     if type == 'simple':\n",
    "        '''\n",
    "        LRP according to Eq(56) in DOI: 10.1371/journal.pone.0130140\n",
    "        '''\n",
    "        N,H,W,D = sumpool_layer.X.shape\n",
    "\n",
    "        hpool,   wpool   = sumpool_layer.pool\n",
    "        hstride, wstride = sumpool_layer.stride\n",
    "\n",
    "        #assume the given pooling and stride parameters are carefully chosen.\n",
    "        Hout = (H - hpool) / hstride + 1\n",
    "        Wout = (W - wpool) / wstride + 1\n",
    "\n",
    "        Rx = np.zeros(sumpool_layer.X.shape)\n",
    "        for i in xrange(Hout):\n",
    "            for j in xrange(Wout):\n",
    "                Z = sumpool_layer.X[:, i*hstride:i*hstride+hpool , j*wstride:j*wstride+wpool , : ] #input activations.\n",
    "                Zs = Z.sum(axis=(1,2),keepdims=True)\n",
    "                Zs += 1e-12*((Zs >= 0)*2-1) # add a weak numerical stabilizer to cushion an all-zero input\n",
    "\n",
    "                Rx[:,i*hstride:i*hstride+hpool: , j*wstride:j*wstride+wpool: , : ] += (Z/Zs) * R[:,i:i+1,j:j+1,:]  #distribute relevance propoprtional to input activations per layer\n",
    "\n",
    "        return Rx\n"
   ]
  },
  {
   "cell_type": "code",
   "execution_count": 10,
   "metadata": {
    "collapsed": false
   },
   "outputs": [
    {
     "name": "stdout",
     "output_type": "stream",
     "text": [
      "<modules.flatten.Flatten instance at 0x7feebe7c2b48>\n",
      "(1, 10) (1, 32, 32, 1)\n",
      "0.0\n"
     ]
    }
   ],
   "source": [
    "## following backward pass in lrp simple\n",
    "i = len(nn.modules)-1\n",
    "\n",
    "flatten_layer = nn.modules[i]\n",
    "print flatten_layer\n",
    "\n",
    "R_ = flatten_layer.lrp(ypred)\n",
    "# for the flatten layer R is simply net output function\n",
    "\n",
    "print ypred.shape, x.shape\n",
    "R1 = flatten_lrp(ypred, flatten_layer.inputshape)\n",
    "print np.linalg.norm(R_ - R1)\n",
    "\n",
    "# backward pass, next layer\n",
    "i = i-1"
   ]
  },
  {
   "cell_type": "code",
   "execution_count": 11,
   "metadata": {
    "collapsed": false
   },
   "outputs": [
    {
     "name": "stdout",
     "output_type": "stream",
     "text": [
      "<modules.convolution.Convolution instance at 0x7feebe7c2b00>\n",
      "0.0\n"
     ]
    }
   ],
   "source": [
    "conv4_layer = nn.modules[i]\n",
    "print conv4_layer\n",
    "\n",
    "R2_ = conv4_layer._simple_lrp(R1)\n",
    "\n",
    "R2 = conv_lrp(R1, conv4_layer)\n",
    "print np.linalg.norm(R2_ - R2)\n",
    "\n",
    "# backward pass, next layer\n",
    "i = i-1"
   ]
  },
  {
   "cell_type": "code",
   "execution_count": 12,
   "metadata": {
    "collapsed": false
   },
   "outputs": [
    {
     "name": "stdout",
     "output_type": "stream",
     "text": [
      "<modules.sumpool.SumPool instance at 0x7feebe7c2ab8>\n",
      "0.0\n"
     ]
    }
   ],
   "source": [
    "pool_layer3 = nn.modules[i]\n",
    "print pool_layer3\n",
    "\n",
    "R3_ = pool_layer3._simple_lrp(R2)\n",
    "\n",
    "R3 = sumpool_lrp(R2, pool_layer3)\n",
    "print np.linalg.norm(R3_ - R3)\n",
    "\n",
    "# backward pass, next layer\n",
    "i = i-1"
   ]
  },
  {
   "cell_type": "code",
   "execution_count": 13,
   "metadata": {
    "collapsed": false
   },
   "outputs": [
    {
     "name": "stdout",
     "output_type": "stream",
     "text": [
      "<modules.rect.Rect instance at 0x7feebe7c2a70>\n",
      "0.0\n"
     ]
    }
   ],
   "source": [
    "relu_layer3 = nn.modules[i]\n",
    "print relu_layer3\n",
    "\n",
    "R4_ = relu_layer3.lrp(R3)\n",
    "\n",
    "R4 = non_linearity_lrp(R3)\n",
    "print np.linalg.norm(R4_ - R4)\n",
    "\n",
    "# backward pass, next layer\n",
    "i = i-1"
   ]
  },
  {
   "cell_type": "code",
   "execution_count": 14,
   "metadata": {
    "collapsed": false
   },
   "outputs": [],
   "source": [
    "def show_lrp(R, x):\n",
    "    #sum over the third (color channel) axis. not necessary here, but for color images it would be.\n",
    "    R = R.sum(axis=3)\n",
    "    \n",
    "    #same for input. create brightness image in [0,1].\n",
    "    x = ((x+1.)/2.).sum(axis=3)\n",
    "\n",
    "    #render input and heatmap as rgb images\n",
    "    digit = render.digit_to_rgb(x, scaling = 3)\n",
    "    hm = render.hm_to_rgb(R, X = x, scaling = 3, sigma = 2)\n",
    "    digit_hm = render.save_image([digit,hm],'../heatmap.png')\n",
    "\n",
    "    #display the image as written to file\n",
    "    plt.imshow(digit_hm, interpolation = 'none')\n",
    "    plt.axis('off')\n",
    "    plt.show()\n",
    "    \n",
    "def show_original_lrp(X, i, lpr_type='simple'):\n",
    "    x = X[i:i+1,...]\n",
    "\n",
    "    #forward pass and prediction\n",
    "    ypred = nn.forward(x)\n",
    "    print 'True Class:     ', np.argmax(Y[i])\n",
    "    print 'Predicted Class:', np.argmax(ypred),'\\n'\n",
    "\n",
    "    #compute first layer relevance according to prediction\n",
    "    if lpr_type=='simple':\n",
    "        R = nn.lrp(ypred)                   #as Eq(56) from DOI: 10.1371/journal.pone.0130140\n",
    "    #R = nn.lrp(ypred,'epsilon',1.)    #as Eq(58) from DOI: 10.1371/journal.pone.0130140\n",
    "    #R = nn.lrp(ypred,'alphabeta',2)    #as Eq(60) from DOI: 10.1371/journal.pone.0130140\n",
    "\n",
    "    #R = nn.lrp(Y[na,i],'epsilon',1.) #compute first layer relevance according to the true class label\n",
    "\n",
    "    #yselect = 3\n",
    "    #yselect = (np.arange(Y.shape[1])[na,:] == yselect)*1.\n",
    "    #R = nn.lrp(yselect,'epsilon',0.1) #compute first layer relvance for an arbitrarily selected class\n",
    "    show_lrp(R, x)\n",
    "    \n",
    "def test_lrp(X, i, lpr_type='simple', show=False, show_original=False):\n",
    "    \n",
    "    x = X[i:i+1,...]\n",
    "\n",
    "    #forward pass and prediction\n",
    "    ypred = nn.forward(x)\n",
    "    print 'True Class:     ', np.argmax(Y[i])\n",
    "    print 'Predicted Class:', np.argmax(ypred),'\\n'\n",
    "\n",
    "    #lrp\n",
    "    l = len(nn.modules)-1\n",
    "    for mod in nn.modules[::-1]:\n",
    "        \n",
    "        layer = nn.modules[l]\n",
    "        if(mod.__class__.__name__ == 'Flatten'):\n",
    "            # must be the last! (first here...)\n",
    "            #print 'flatten'+str(l)\n",
    "            R = flatten_lrp(ypred, layer.inputshape)\n",
    "            \n",
    "        elif (mod.__class__.__name__ == 'Convolution'):\n",
    "            #print 'conv'+str(l)\n",
    "            R = conv_lrp(R, layer)\n",
    "            \n",
    "        elif (mod.__class__.__name__ == 'SumPool'):        \n",
    "            #print 'sumpool'+str(l)\n",
    "            R = sumpool_lrp(R, layer)\n",
    "            \n",
    "        elif (mod.__class__.__name__ == 'Rect' or mod.__class__.__name__ == 'Tanh'): \n",
    "            #print 'non-lin'+str(l)\n",
    "            R = non_linearity_lrp(R)\n",
    "        \n",
    "        l=l-1\n",
    "        \n",
    "    if show:\n",
    "        show_lrp(R, x)\n",
    "        \n",
    "    if show_original:\n",
    "        show_original_lrp(X, i, lpr_type)\n",
    "    return R, x\n",
    "\n"
   ]
  },
  {
   "cell_type": "code",
   "execution_count": 16,
   "metadata": {
    "collapsed": false
   },
   "outputs": [
    {
     "name": "stdout",
     "output_type": "stream",
     "text": [
      "True Class:      7\n",
      "Predicted Class: 7 \n",
      "\n"
     ]
    },
    {
     "data": {
      "image/png": "[encoded data removed]",
      "text/plain": [
       "<matplotlib.figure.Figure at 0x7feecbff26d0>"
      ]
     },
     "metadata": {},
     "output_type": "display_data"
    },
    {
     "name": "stdout",
     "output_type": "stream",
     "text": [
      "True Class:      7\n",
      "Predicted Class: 7 \n",
      "\n"
     ]
    },
    {
     "data": {
      "image/png": "[encoded data removed]",
      "text/plain": [
       "<matplotlib.figure.Figure at 0x7feeb676bd90>"
      ]
     },
     "metadata": {},
     "output_type": "display_data"
    }
   ],
   "source": [
    "R, x = test_lrp(X, 0, lpr_type='simple', show=True, show_original=True)\n"
   ]
  },
  {
   "cell_type": "code",
   "execution_count": null,
   "metadata": {
    "collapsed": true
   },
   "outputs": [],
   "source": []
  }
 ],
 "metadata": {
  "anaconda-cloud": {},
  "kernelspec": {
   "display_name": "Python [default]",
   "language": "python",
   "name": "python2"
  },
  "language_info": {
   "codemirror_mode": {
    "name": "ipython",
    "version": 2
   },
   "file_extension": ".py",
   "mimetype": "text/x-python",
   "name": "python",
   "nbconvert_exporter": "python",
   "pygments_lexer": "ipython2",
   "version": "2.7.12"
  }
 },
 "nbformat": 4,
 "nbformat_minor": 1
}
